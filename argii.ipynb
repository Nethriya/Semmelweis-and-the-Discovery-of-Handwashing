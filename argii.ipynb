{
  "nbformat": 4,
  "nbformat_minor": 0,
  "metadata": {
    "colab": {
      "provenance": [],
      "include_colab_link": true
    },
    "kernelspec": {
      "name": "python3",
      "display_name": "Python 3"
    },
    "language_info": {
      "name": "python"
    }
  },
  "cells": [
    {
      "cell_type": "markdown",
      "metadata": {
        "id": "view-in-github",
        "colab_type": "text"
      },
      "source": [
        "<a href=\"https://colab.research.google.com/github/Nethriya/Semmelweis-and-the-Discovery-of-Handwashing/blob/main/argii.ipynb\" target=\"_parent\"><img src=\"https://colab.research.google.com/assets/colab-badge.svg\" alt=\"Open In Colab\"/></a>"
      ]
    },
    {
      "cell_type": "code",
      "execution_count": null,
      "metadata": {
        "id": "sVOAVVrDgIMy",
        "colab": {
          "base_uri": "https://localhost:8080/"
        },
        "outputId": "f30d6cbf-dbbf-4a35-d055-ee0969ccb849"
      },
      "outputs": [
        {
          "output_type": "stream",
          "name": "stdout",
          "text": [
            "Collecting argilla\n",
            "  Downloading argilla-2.3.0-py3-none-any.whl.metadata (9.0 kB)\n",
            "Collecting httpx>=0.26.0 (from argilla)\n",
            "  Downloading httpx-0.27.2-py3-none-any.whl.metadata (7.1 kB)\n",
            "Requirement already satisfied: pydantic<3.0.0,>=2.6.0 in /usr/local/lib/python3.10/dist-packages (from argilla) (2.9.2)\n",
            "Requirement already satisfied: huggingface_hub>=0.22.0 in /usr/local/lib/python3.10/dist-packages (from argilla) (0.24.7)\n",
            "Requirement already satisfied: tqdm>=4.60.0 in /usr/local/lib/python3.10/dist-packages (from argilla) (4.66.5)\n",
            "Requirement already satisfied: rich>=10.0.0 in /usr/local/lib/python3.10/dist-packages (from argilla) (13.9.2)\n",
            "Collecting datasets>=2.0.0 (from argilla)\n",
            "  Downloading datasets-3.0.1-py3-none-any.whl.metadata (20 kB)\n",
            "Requirement already satisfied: pillow>=9.5.0 in /usr/local/lib/python3.10/dist-packages (from argilla) (10.4.0)\n",
            "Requirement already satisfied: filelock in /usr/local/lib/python3.10/dist-packages (from datasets>=2.0.0->argilla) (3.16.1)\n",
            "Requirement already satisfied: numpy>=1.17 in /usr/local/lib/python3.10/dist-packages (from datasets>=2.0.0->argilla) (1.26.4)\n",
            "Requirement already satisfied: pyarrow>=15.0.0 in /usr/local/lib/python3.10/dist-packages (from datasets>=2.0.0->argilla) (16.1.0)\n",
            "Collecting dill<0.3.9,>=0.3.0 (from datasets>=2.0.0->argilla)\n",
            "  Downloading dill-0.3.8-py3-none-any.whl.metadata (10 kB)\n",
            "Requirement already satisfied: pandas in /usr/local/lib/python3.10/dist-packages (from datasets>=2.0.0->argilla) (2.2.2)\n",
            "Requirement already satisfied: requests>=2.32.2 in /usr/local/lib/python3.10/dist-packages (from datasets>=2.0.0->argilla) (2.32.3)\n",
            "Collecting xxhash (from datasets>=2.0.0->argilla)\n",
            "  Downloading xxhash-3.5.0-cp310-cp310-manylinux_2_17_x86_64.manylinux2014_x86_64.whl.metadata (12 kB)\n",
            "Collecting multiprocess (from datasets>=2.0.0->argilla)\n",
            "  Downloading multiprocess-0.70.17-py310-none-any.whl.metadata (7.2 kB)\n",
            "Requirement already satisfied: fsspec<=2024.6.1,>=2023.1.0 in /usr/local/lib/python3.10/dist-packages (from fsspec[http]<=2024.6.1,>=2023.1.0->datasets>=2.0.0->argilla) (2024.6.1)\n",
            "Requirement already satisfied: aiohttp in /usr/local/lib/python3.10/dist-packages (from datasets>=2.0.0->argilla) (3.10.10)\n",
            "Requirement already satisfied: packaging in /usr/local/lib/python3.10/dist-packages (from datasets>=2.0.0->argilla) (24.1)\n",
            "Requirement already satisfied: pyyaml>=5.1 in /usr/local/lib/python3.10/dist-packages (from datasets>=2.0.0->argilla) (6.0.2)\n",
            "Requirement already satisfied: anyio in /usr/local/lib/python3.10/dist-packages (from httpx>=0.26.0->argilla) (3.7.1)\n",
            "Requirement already satisfied: certifi in /usr/local/lib/python3.10/dist-packages (from httpx>=0.26.0->argilla) (2024.8.30)\n",
            "Collecting httpcore==1.* (from httpx>=0.26.0->argilla)\n",
            "  Downloading httpcore-1.0.6-py3-none-any.whl.metadata (21 kB)\n",
            "Requirement already satisfied: idna in /usr/local/lib/python3.10/dist-packages (from httpx>=0.26.0->argilla) (3.10)\n",
            "Requirement already satisfied: sniffio in /usr/local/lib/python3.10/dist-packages (from httpx>=0.26.0->argilla) (1.3.1)\n",
            "Collecting h11<0.15,>=0.13 (from httpcore==1.*->httpx>=0.26.0->argilla)\n",
            "  Downloading h11-0.14.0-py3-none-any.whl.metadata (8.2 kB)\n",
            "Requirement already satisfied: typing-extensions>=3.7.4.3 in /usr/local/lib/python3.10/dist-packages (from huggingface_hub>=0.22.0->argilla) (4.12.2)\n",
            "Requirement already satisfied: annotated-types>=0.6.0 in /usr/local/lib/python3.10/dist-packages (from pydantic<3.0.0,>=2.6.0->argilla) (0.7.0)\n",
            "Requirement already satisfied: pydantic-core==2.23.4 in /usr/local/lib/python3.10/dist-packages (from pydantic<3.0.0,>=2.6.0->argilla) (2.23.4)\n",
            "Requirement already satisfied: markdown-it-py>=2.2.0 in /usr/local/lib/python3.10/dist-packages (from rich>=10.0.0->argilla) (3.0.0)\n",
            "Requirement already satisfied: pygments<3.0.0,>=2.13.0 in /usr/local/lib/python3.10/dist-packages (from rich>=10.0.0->argilla) (2.18.0)\n",
            "Requirement already satisfied: aiohappyeyeballs>=2.3.0 in /usr/local/lib/python3.10/dist-packages (from aiohttp->datasets>=2.0.0->argilla) (2.4.3)\n",
            "Requirement already satisfied: aiosignal>=1.1.2 in /usr/local/lib/python3.10/dist-packages (from aiohttp->datasets>=2.0.0->argilla) (1.3.1)\n",
            "Requirement already satisfied: attrs>=17.3.0 in /usr/local/lib/python3.10/dist-packages (from aiohttp->datasets>=2.0.0->argilla) (24.2.0)\n",
            "Requirement already satisfied: frozenlist>=1.1.1 in /usr/local/lib/python3.10/dist-packages (from aiohttp->datasets>=2.0.0->argilla) (1.4.1)\n",
            "Requirement already satisfied: multidict<7.0,>=4.5 in /usr/local/lib/python3.10/dist-packages (from aiohttp->datasets>=2.0.0->argilla) (6.1.0)\n",
            "Requirement already satisfied: yarl<2.0,>=1.12.0 in /usr/local/lib/python3.10/dist-packages (from aiohttp->datasets>=2.0.0->argilla) (1.15.2)\n",
            "Requirement already satisfied: async-timeout<5.0,>=4.0 in /usr/local/lib/python3.10/dist-packages (from aiohttp->datasets>=2.0.0->argilla) (4.0.3)\n",
            "Requirement already satisfied: mdurl~=0.1 in /usr/local/lib/python3.10/dist-packages (from markdown-it-py>=2.2.0->rich>=10.0.0->argilla) (0.1.2)\n",
            "Requirement already satisfied: charset-normalizer<4,>=2 in /usr/local/lib/python3.10/dist-packages (from requests>=2.32.2->datasets>=2.0.0->argilla) (3.4.0)\n",
            "Requirement already satisfied: urllib3<3,>=1.21.1 in /usr/local/lib/python3.10/dist-packages (from requests>=2.32.2->datasets>=2.0.0->argilla) (2.2.3)\n",
            "Requirement already satisfied: exceptiongroup in /usr/local/lib/python3.10/dist-packages (from anyio->httpx>=0.26.0->argilla) (1.2.2)\n",
            "INFO: pip is looking at multiple versions of multiprocess to determine which version is compatible with other requirements. This could take a while.\n",
            "Collecting multiprocess (from datasets>=2.0.0->argilla)\n",
            "  Downloading multiprocess-0.70.16-py310-none-any.whl.metadata (7.2 kB)\n",
            "Requirement already satisfied: python-dateutil>=2.8.2 in /usr/local/lib/python3.10/dist-packages (from pandas->datasets>=2.0.0->argilla) (2.8.2)\n",
            "Requirement already satisfied: pytz>=2020.1 in /usr/local/lib/python3.10/dist-packages (from pandas->datasets>=2.0.0->argilla) (2024.2)\n",
            "Requirement already satisfied: tzdata>=2022.7 in /usr/local/lib/python3.10/dist-packages (from pandas->datasets>=2.0.0->argilla) (2024.2)\n",
            "Requirement already satisfied: six>=1.5 in /usr/local/lib/python3.10/dist-packages (from python-dateutil>=2.8.2->pandas->datasets>=2.0.0->argilla) (1.16.0)\n",
            "Requirement already satisfied: propcache>=0.2.0 in /usr/local/lib/python3.10/dist-packages (from yarl<2.0,>=1.12.0->aiohttp->datasets>=2.0.0->argilla) (0.2.0)\n",
            "Downloading argilla-2.3.0-py3-none-any.whl (154 kB)\n",
            "\u001b[2K   \u001b[90m━━━━━━━━━━━━━━━━━━━━━━━━━━━━━━━━━━━━━━━━\u001b[0m \u001b[32m154.7/154.7 kB\u001b[0m \u001b[31m5.5 MB/s\u001b[0m eta \u001b[36m0:00:00\u001b[0m\n",
            "\u001b[?25hDownloading datasets-3.0.1-py3-none-any.whl (471 kB)\n",
            "\u001b[2K   \u001b[90m━━━━━━━━━━━━━━━━━━━━━━━━━━━━━━━━━━━━━━━━\u001b[0m \u001b[32m471.6/471.6 kB\u001b[0m \u001b[31m14.8 MB/s\u001b[0m eta \u001b[36m0:00:00\u001b[0m\n",
            "\u001b[?25hDownloading httpx-0.27.2-py3-none-any.whl (76 kB)\n",
            "\u001b[2K   \u001b[90m━━━━━━━━━━━━━━━━━━━━━━━━━━━━━━━━━━━━━━━━\u001b[0m \u001b[32m76.4/76.4 kB\u001b[0m \u001b[31m3.9 MB/s\u001b[0m eta \u001b[36m0:00:00\u001b[0m\n",
            "\u001b[?25hDownloading httpcore-1.0.6-py3-none-any.whl (78 kB)\n",
            "\u001b[2K   \u001b[90m━━━━━━━━━━━━━━━━━━━━━━━━━━━━━━━━━━━━━━━━\u001b[0m \u001b[32m78.0/78.0 kB\u001b[0m \u001b[31m4.9 MB/s\u001b[0m eta \u001b[36m0:00:00\u001b[0m\n",
            "\u001b[?25hDownloading dill-0.3.8-py3-none-any.whl (116 kB)\n",
            "\u001b[2K   \u001b[90m━━━━━━━━━━━━━━━━━━━━━━━━━━━━━━━━━━━━━━━━\u001b[0m \u001b[32m116.3/116.3 kB\u001b[0m \u001b[31m7.5 MB/s\u001b[0m eta \u001b[36m0:00:00\u001b[0m\n",
            "\u001b[?25hDownloading multiprocess-0.70.16-py310-none-any.whl (134 kB)\n",
            "\u001b[2K   \u001b[90m━━━━━━━━━━━━━━━━━━━━━━━━━━━━━━━━━━━━━━━━\u001b[0m \u001b[32m134.8/134.8 kB\u001b[0m \u001b[31m9.4 MB/s\u001b[0m eta \u001b[36m0:00:00\u001b[0m\n",
            "\u001b[?25hDownloading xxhash-3.5.0-cp310-cp310-manylinux_2_17_x86_64.manylinux2014_x86_64.whl (194 kB)\n",
            "\u001b[2K   \u001b[90m━━━━━━━━━━━━━━━━━━━━━━━━━━━━━━━━━━━━━━━━\u001b[0m \u001b[32m194.1/194.1 kB\u001b[0m \u001b[31m7.7 MB/s\u001b[0m eta \u001b[36m0:00:00\u001b[0m\n",
            "\u001b[?25hDownloading h11-0.14.0-py3-none-any.whl (58 kB)\n",
            "\u001b[2K   \u001b[90m━━━━━━━━━━━━━━━━━━━━━━━━━━━━━━━━━━━━━━━━\u001b[0m \u001b[32m58.3/58.3 kB\u001b[0m \u001b[31m3.5 MB/s\u001b[0m eta \u001b[36m0:00:00\u001b[0m\n",
            "\u001b[?25hInstalling collected packages: xxhash, h11, dill, multiprocess, httpcore, httpx, datasets, argilla\n",
            "Successfully installed argilla-2.3.0 datasets-3.0.1 dill-0.3.8 h11-0.14.0 httpcore-1.0.6 httpx-0.27.2 multiprocess-0.70.16 xxhash-3.5.0\n"
          ]
        }
      ],
      "source": [
        "`!pip install argilla"
      ]
    },
    {
      "cell_type": "code",
      "source": [
        "!pip install --upgrade argilla"
      ],
      "metadata": {
        "colab": {
          "base_uri": "https://localhost:8080/"
        },
        "id": "kFFq_ElizzBQ",
        "outputId": "2baf2db4-dd96-4ed7-e14f-2c1a363b6185"
      },
      "execution_count": null,
      "outputs": [
        {
          "output_type": "stream",
          "name": "stdout",
          "text": [
            "Requirement already satisfied: argilla in /usr/local/lib/python3.10/dist-packages (2.3.0)\n",
            "Requirement already satisfied: httpx>=0.26.0 in /usr/local/lib/python3.10/dist-packages (from argilla) (0.27.2)\n",
            "Requirement already satisfied: pydantic<3.0.0,>=2.6.0 in /usr/local/lib/python3.10/dist-packages (from argilla) (2.9.2)\n",
            "Requirement already satisfied: huggingface_hub>=0.22.0 in /usr/local/lib/python3.10/dist-packages (from argilla) (0.24.7)\n",
            "Requirement already satisfied: tqdm>=4.60.0 in /usr/local/lib/python3.10/dist-packages (from argilla) (4.66.5)\n",
            "Requirement already satisfied: rich>=10.0.0 in /usr/local/lib/python3.10/dist-packages (from argilla) (13.9.2)\n",
            "Requirement already satisfied: datasets>=2.0.0 in /usr/local/lib/python3.10/dist-packages (from argilla) (3.0.1)\n",
            "Requirement already satisfied: pillow>=9.5.0 in /usr/local/lib/python3.10/dist-packages (from argilla) (10.4.0)\n",
            "Requirement already satisfied: filelock in /usr/local/lib/python3.10/dist-packages (from datasets>=2.0.0->argilla) (3.16.1)\n",
            "Requirement already satisfied: numpy>=1.17 in /usr/local/lib/python3.10/dist-packages (from datasets>=2.0.0->argilla) (1.26.4)\n",
            "Requirement already satisfied: pyarrow>=15.0.0 in /usr/local/lib/python3.10/dist-packages (from datasets>=2.0.0->argilla) (16.1.0)\n",
            "Requirement already satisfied: dill<0.3.9,>=0.3.0 in /usr/local/lib/python3.10/dist-packages (from datasets>=2.0.0->argilla) (0.3.8)\n",
            "Requirement already satisfied: pandas in /usr/local/lib/python3.10/dist-packages (from datasets>=2.0.0->argilla) (2.2.2)\n",
            "Requirement already satisfied: requests>=2.32.2 in /usr/local/lib/python3.10/dist-packages (from datasets>=2.0.0->argilla) (2.32.3)\n",
            "Requirement already satisfied: xxhash in /usr/local/lib/python3.10/dist-packages (from datasets>=2.0.0->argilla) (3.5.0)\n",
            "Requirement already satisfied: multiprocess in /usr/local/lib/python3.10/dist-packages (from datasets>=2.0.0->argilla) (0.70.16)\n",
            "Requirement already satisfied: fsspec<=2024.6.1,>=2023.1.0 in /usr/local/lib/python3.10/dist-packages (from fsspec[http]<=2024.6.1,>=2023.1.0->datasets>=2.0.0->argilla) (2024.6.1)\n",
            "Requirement already satisfied: aiohttp in /usr/local/lib/python3.10/dist-packages (from datasets>=2.0.0->argilla) (3.10.10)\n",
            "Requirement already satisfied: packaging in /usr/local/lib/python3.10/dist-packages (from datasets>=2.0.0->argilla) (24.1)\n",
            "Requirement already satisfied: pyyaml>=5.1 in /usr/local/lib/python3.10/dist-packages (from datasets>=2.0.0->argilla) (6.0.2)\n",
            "Requirement already satisfied: anyio in /usr/local/lib/python3.10/dist-packages (from httpx>=0.26.0->argilla) (3.7.1)\n",
            "Requirement already satisfied: certifi in /usr/local/lib/python3.10/dist-packages (from httpx>=0.26.0->argilla) (2024.8.30)\n",
            "Requirement already satisfied: httpcore==1.* in /usr/local/lib/python3.10/dist-packages (from httpx>=0.26.0->argilla) (1.0.6)\n",
            "Requirement already satisfied: idna in /usr/local/lib/python3.10/dist-packages (from httpx>=0.26.0->argilla) (3.10)\n",
            "Requirement already satisfied: sniffio in /usr/local/lib/python3.10/dist-packages (from httpx>=0.26.0->argilla) (1.3.1)\n",
            "Requirement already satisfied: h11<0.15,>=0.13 in /usr/local/lib/python3.10/dist-packages (from httpcore==1.*->httpx>=0.26.0->argilla) (0.14.0)\n",
            "Requirement already satisfied: typing-extensions>=3.7.4.3 in /usr/local/lib/python3.10/dist-packages (from huggingface_hub>=0.22.0->argilla) (4.12.2)\n",
            "Requirement already satisfied: annotated-types>=0.6.0 in /usr/local/lib/python3.10/dist-packages (from pydantic<3.0.0,>=2.6.0->argilla) (0.7.0)\n",
            "Requirement already satisfied: pydantic-core==2.23.4 in /usr/local/lib/python3.10/dist-packages (from pydantic<3.0.0,>=2.6.0->argilla) (2.23.4)\n",
            "Requirement already satisfied: markdown-it-py>=2.2.0 in /usr/local/lib/python3.10/dist-packages (from rich>=10.0.0->argilla) (3.0.0)\n",
            "Requirement already satisfied: pygments<3.0.0,>=2.13.0 in /usr/local/lib/python3.10/dist-packages (from rich>=10.0.0->argilla) (2.18.0)\n",
            "Requirement already satisfied: aiohappyeyeballs>=2.3.0 in /usr/local/lib/python3.10/dist-packages (from aiohttp->datasets>=2.0.0->argilla) (2.4.3)\n",
            "Requirement already satisfied: aiosignal>=1.1.2 in /usr/local/lib/python3.10/dist-packages (from aiohttp->datasets>=2.0.0->argilla) (1.3.1)\n",
            "Requirement already satisfied: attrs>=17.3.0 in /usr/local/lib/python3.10/dist-packages (from aiohttp->datasets>=2.0.0->argilla) (24.2.0)\n",
            "Requirement already satisfied: frozenlist>=1.1.1 in /usr/local/lib/python3.10/dist-packages (from aiohttp->datasets>=2.0.0->argilla) (1.4.1)\n",
            "Requirement already satisfied: multidict<7.0,>=4.5 in /usr/local/lib/python3.10/dist-packages (from aiohttp->datasets>=2.0.0->argilla) (6.1.0)\n",
            "Requirement already satisfied: yarl<2.0,>=1.12.0 in /usr/local/lib/python3.10/dist-packages (from aiohttp->datasets>=2.0.0->argilla) (1.15.2)\n",
            "Requirement already satisfied: async-timeout<5.0,>=4.0 in /usr/local/lib/python3.10/dist-packages (from aiohttp->datasets>=2.0.0->argilla) (4.0.3)\n",
            "Requirement already satisfied: mdurl~=0.1 in /usr/local/lib/python3.10/dist-packages (from markdown-it-py>=2.2.0->rich>=10.0.0->argilla) (0.1.2)\n",
            "Requirement already satisfied: charset-normalizer<4,>=2 in /usr/local/lib/python3.10/dist-packages (from requests>=2.32.2->datasets>=2.0.0->argilla) (3.4.0)\n",
            "Requirement already satisfied: urllib3<3,>=1.21.1 in /usr/local/lib/python3.10/dist-packages (from requests>=2.32.2->datasets>=2.0.0->argilla) (2.2.3)\n",
            "Requirement already satisfied: exceptiongroup in /usr/local/lib/python3.10/dist-packages (from anyio->httpx>=0.26.0->argilla) (1.2.2)\n",
            "Requirement already satisfied: python-dateutil>=2.8.2 in /usr/local/lib/python3.10/dist-packages (from pandas->datasets>=2.0.0->argilla) (2.8.2)\n",
            "Requirement already satisfied: pytz>=2020.1 in /usr/local/lib/python3.10/dist-packages (from pandas->datasets>=2.0.0->argilla) (2024.2)\n",
            "Requirement already satisfied: tzdata>=2022.7 in /usr/local/lib/python3.10/dist-packages (from pandas->datasets>=2.0.0->argilla) (2024.2)\n",
            "Requirement already satisfied: six>=1.5 in /usr/local/lib/python3.10/dist-packages (from python-dateutil>=2.8.2->pandas->datasets>=2.0.0->argilla) (1.16.0)\n",
            "Requirement already satisfied: propcache>=0.2.0 in /usr/local/lib/python3.10/dist-packages (from yarl<2.0,>=1.12.0->aiohttp->datasets>=2.0.0->argilla) (0.2.0)\n"
          ]
        }
      ]
    },
    {
      "cell_type": "code",
      "source": [
        "import argilla as rg"
      ],
      "metadata": {
        "colab": {
          "base_uri": "https://localhost:8080/"
        },
        "id": "9UrBfIcSrzFr",
        "outputId": "b23a5619-2c62-4d46-e54e-9d008c80d79d"
      },
      "execution_count": null,
      "outputs": [
        {
          "output_type": "stream",
          "name": "stderr",
          "text": [
            "/usr/local/lib/python3.10/dist-packages/argilla/_api/_token.py:83: UserWarning: \n",
            "The secrets ARGILLA_API_URL and does not exist in your Colab secrets.\n",
            "  warnings.warn(f\"\\nThe secrets {name} and does not exist in your Colab secrets.\")\n",
            "/usr/local/lib/python3.10/dist-packages/argilla/_api/_token.py:83: UserWarning: \n",
            "The secrets ARGILLA_API_KEY and does not exist in your Colab secrets.\n",
            "  warnings.warn(f\"\\nThe secrets {name} and does not exist in your Colab secrets.\")\n"
          ]
        }
      ]
    },
    {
      "cell_type": "code",
      "source": [
        "!pip install gliner_spacy\n",
        "!pip install presidio_analyzer\n",
        "!pip install presidio_anonymizer\n"
      ],
      "metadata": {
        "colab": {
          "base_uri": "https://localhost:8080/"
        },
        "id": "vatAtxNaSkwb",
        "outputId": "d991f407-f783-45db-bdf2-1eb32052a09e"
      },
      "execution_count": null,
      "outputs": [
        {
          "output_type": "stream",
          "name": "stdout",
          "text": [
            "Requirement already satisfied: gliner_spacy in /usr/local/lib/python3.10/dist-packages (0.0.10)\n",
            "Requirement already satisfied: spacy>=3.0.0 in /usr/local/lib/python3.10/dist-packages (from gliner_spacy) (3.7.5)\n",
            "Requirement already satisfied: gliner>=0.2.0 in /usr/local/lib/python3.10/dist-packages (from gliner_spacy) (0.2.13)\n",
            "Requirement already satisfied: seaborn in /usr/local/lib/python3.10/dist-packages (from gliner_spacy) (0.13.2)\n",
            "Requirement already satisfied: matplotlib in /usr/local/lib/python3.10/dist-packages (from gliner_spacy) (3.7.1)\n",
            "Requirement already satisfied: numpy in /usr/local/lib/python3.10/dist-packages (from gliner_spacy) (1.26.4)\n",
            "Requirement already satisfied: torch>=2.0.0 in /usr/local/lib/python3.10/dist-packages (from gliner>=0.2.0->gliner_spacy) (2.4.1+cu121)\n",
            "Requirement already satisfied: transformers>=4.38.2 in /usr/local/lib/python3.10/dist-packages (from gliner>=0.2.0->gliner_spacy) (4.44.2)\n",
            "Requirement already satisfied: huggingface-hub>=0.21.4 in /usr/local/lib/python3.10/dist-packages (from gliner>=0.2.0->gliner_spacy) (0.24.7)\n",
            "Requirement already satisfied: tqdm in /usr/local/lib/python3.10/dist-packages (from gliner>=0.2.0->gliner_spacy) (4.66.5)\n",
            "Requirement already satisfied: onnxruntime in /usr/local/lib/python3.10/dist-packages (from gliner>=0.2.0->gliner_spacy) (1.19.2)\n",
            "Requirement already satisfied: sentencepiece in /usr/local/lib/python3.10/dist-packages (from gliner>=0.2.0->gliner_spacy) (0.2.0)\n",
            "Requirement already satisfied: spacy-legacy<3.1.0,>=3.0.11 in /usr/local/lib/python3.10/dist-packages (from spacy>=3.0.0->gliner_spacy) (3.0.12)\n",
            "Requirement already satisfied: spacy-loggers<2.0.0,>=1.0.0 in /usr/local/lib/python3.10/dist-packages (from spacy>=3.0.0->gliner_spacy) (1.0.5)\n",
            "Requirement already satisfied: murmurhash<1.1.0,>=0.28.0 in /usr/local/lib/python3.10/dist-packages (from spacy>=3.0.0->gliner_spacy) (1.0.10)\n",
            "Requirement already satisfied: cymem<2.1.0,>=2.0.2 in /usr/local/lib/python3.10/dist-packages (from spacy>=3.0.0->gliner_spacy) (2.0.8)\n",
            "Requirement already satisfied: preshed<3.1.0,>=3.0.2 in /usr/local/lib/python3.10/dist-packages (from spacy>=3.0.0->gliner_spacy) (3.0.9)\n",
            "Requirement already satisfied: thinc<8.3.0,>=8.2.2 in /usr/local/lib/python3.10/dist-packages (from spacy>=3.0.0->gliner_spacy) (8.2.5)\n",
            "Requirement already satisfied: wasabi<1.2.0,>=0.9.1 in /usr/local/lib/python3.10/dist-packages (from spacy>=3.0.0->gliner_spacy) (1.1.3)\n",
            "Requirement already satisfied: srsly<3.0.0,>=2.4.3 in /usr/local/lib/python3.10/dist-packages (from spacy>=3.0.0->gliner_spacy) (2.4.8)\n",
            "Requirement already satisfied: catalogue<2.1.0,>=2.0.6 in /usr/local/lib/python3.10/dist-packages (from spacy>=3.0.0->gliner_spacy) (2.0.10)\n",
            "Requirement already satisfied: weasel<0.5.0,>=0.1.0 in /usr/local/lib/python3.10/dist-packages (from spacy>=3.0.0->gliner_spacy) (0.4.1)\n",
            "Requirement already satisfied: typer<1.0.0,>=0.3.0 in /usr/local/lib/python3.10/dist-packages (from spacy>=3.0.0->gliner_spacy) (0.12.5)\n",
            "Requirement already satisfied: requests<3.0.0,>=2.13.0 in /usr/local/lib/python3.10/dist-packages (from spacy>=3.0.0->gliner_spacy) (2.32.3)\n",
            "Requirement already satisfied: pydantic!=1.8,!=1.8.1,<3.0.0,>=1.7.4 in /usr/local/lib/python3.10/dist-packages (from spacy>=3.0.0->gliner_spacy) (2.9.2)\n",
            "Requirement already satisfied: jinja2 in /usr/local/lib/python3.10/dist-packages (from spacy>=3.0.0->gliner_spacy) (3.1.4)\n",
            "Requirement already satisfied: setuptools in /usr/local/lib/python3.10/dist-packages (from spacy>=3.0.0->gliner_spacy) (75.1.0)\n",
            "Requirement already satisfied: packaging>=20.0 in /usr/local/lib/python3.10/dist-packages (from spacy>=3.0.0->gliner_spacy) (24.1)\n",
            "Requirement already satisfied: langcodes<4.0.0,>=3.2.0 in /usr/local/lib/python3.10/dist-packages (from spacy>=3.0.0->gliner_spacy) (3.4.1)\n",
            "Requirement already satisfied: contourpy>=1.0.1 in /usr/local/lib/python3.10/dist-packages (from matplotlib->gliner_spacy) (1.3.0)\n",
            "Requirement already satisfied: cycler>=0.10 in /usr/local/lib/python3.10/dist-packages (from matplotlib->gliner_spacy) (0.12.1)\n",
            "Requirement already satisfied: fonttools>=4.22.0 in /usr/local/lib/python3.10/dist-packages (from matplotlib->gliner_spacy) (4.54.1)\n",
            "Requirement already satisfied: kiwisolver>=1.0.1 in /usr/local/lib/python3.10/dist-packages (from matplotlib->gliner_spacy) (1.4.7)\n",
            "Requirement already satisfied: pillow>=6.2.0 in /usr/local/lib/python3.10/dist-packages (from matplotlib->gliner_spacy) (10.4.0)\n",
            "Requirement already satisfied: pyparsing>=2.3.1 in /usr/local/lib/python3.10/dist-packages (from matplotlib->gliner_spacy) (3.2.0)\n",
            "Requirement already satisfied: python-dateutil>=2.7 in /usr/local/lib/python3.10/dist-packages (from matplotlib->gliner_spacy) (2.8.2)\n",
            "Requirement already satisfied: pandas>=1.2 in /usr/local/lib/python3.10/dist-packages (from seaborn->gliner_spacy) (2.2.2)\n",
            "Requirement already satisfied: filelock in /usr/local/lib/python3.10/dist-packages (from huggingface-hub>=0.21.4->gliner>=0.2.0->gliner_spacy) (3.16.1)\n",
            "Requirement already satisfied: fsspec>=2023.5.0 in /usr/local/lib/python3.10/dist-packages (from huggingface-hub>=0.21.4->gliner>=0.2.0->gliner_spacy) (2024.6.1)\n",
            "Requirement already satisfied: pyyaml>=5.1 in /usr/local/lib/python3.10/dist-packages (from huggingface-hub>=0.21.4->gliner>=0.2.0->gliner_spacy) (6.0.2)\n",
            "Requirement already satisfied: typing-extensions>=3.7.4.3 in /usr/local/lib/python3.10/dist-packages (from huggingface-hub>=0.21.4->gliner>=0.2.0->gliner_spacy) (4.12.2)\n",
            "Requirement already satisfied: language-data>=1.2 in /usr/local/lib/python3.10/dist-packages (from langcodes<4.0.0,>=3.2.0->spacy>=3.0.0->gliner_spacy) (1.2.0)\n",
            "Requirement already satisfied: pytz>=2020.1 in /usr/local/lib/python3.10/dist-packages (from pandas>=1.2->seaborn->gliner_spacy) (2024.2)\n",
            "Requirement already satisfied: tzdata>=2022.7 in /usr/local/lib/python3.10/dist-packages (from pandas>=1.2->seaborn->gliner_spacy) (2024.2)\n",
            "Requirement already satisfied: annotated-types>=0.6.0 in /usr/local/lib/python3.10/dist-packages (from pydantic!=1.8,!=1.8.1,<3.0.0,>=1.7.4->spacy>=3.0.0->gliner_spacy) (0.7.0)\n",
            "Requirement already satisfied: pydantic-core==2.23.4 in /usr/local/lib/python3.10/dist-packages (from pydantic!=1.8,!=1.8.1,<3.0.0,>=1.7.4->spacy>=3.0.0->gliner_spacy) (2.23.4)\n",
            "Requirement already satisfied: six>=1.5 in /usr/local/lib/python3.10/dist-packages (from python-dateutil>=2.7->matplotlib->gliner_spacy) (1.16.0)\n",
            "Requirement already satisfied: charset-normalizer<4,>=2 in /usr/local/lib/python3.10/dist-packages (from requests<3.0.0,>=2.13.0->spacy>=3.0.0->gliner_spacy) (3.4.0)\n",
            "Requirement already satisfied: idna<4,>=2.5 in /usr/local/lib/python3.10/dist-packages (from requests<3.0.0,>=2.13.0->spacy>=3.0.0->gliner_spacy) (3.10)\n",
            "Requirement already satisfied: urllib3<3,>=1.21.1 in /usr/local/lib/python3.10/dist-packages (from requests<3.0.0,>=2.13.0->spacy>=3.0.0->gliner_spacy) (2.2.3)\n",
            "Requirement already satisfied: certifi>=2017.4.17 in /usr/local/lib/python3.10/dist-packages (from requests<3.0.0,>=2.13.0->spacy>=3.0.0->gliner_spacy) (2024.8.30)\n",
            "Requirement already satisfied: blis<0.8.0,>=0.7.8 in /usr/local/lib/python3.10/dist-packages (from thinc<8.3.0,>=8.2.2->spacy>=3.0.0->gliner_spacy) (0.7.11)\n",
            "Requirement already satisfied: confection<1.0.0,>=0.0.1 in /usr/local/lib/python3.10/dist-packages (from thinc<8.3.0,>=8.2.2->spacy>=3.0.0->gliner_spacy) (0.1.5)\n",
            "Requirement already satisfied: sympy in /usr/local/lib/python3.10/dist-packages (from torch>=2.0.0->gliner>=0.2.0->gliner_spacy) (1.13.3)\n",
            "Requirement already satisfied: networkx in /usr/local/lib/python3.10/dist-packages (from torch>=2.0.0->gliner>=0.2.0->gliner_spacy) (3.4.1)\n",
            "Requirement already satisfied: regex!=2019.12.17 in /usr/local/lib/python3.10/dist-packages (from transformers>=4.38.2->gliner>=0.2.0->gliner_spacy) (2024.9.11)\n",
            "Requirement already satisfied: safetensors>=0.4.1 in /usr/local/lib/python3.10/dist-packages (from transformers>=4.38.2->gliner>=0.2.0->gliner_spacy) (0.4.5)\n",
            "Requirement already satisfied: tokenizers<0.20,>=0.19 in /usr/local/lib/python3.10/dist-packages (from transformers>=4.38.2->gliner>=0.2.0->gliner_spacy) (0.19.1)\n",
            "Requirement already satisfied: click>=8.0.0 in /usr/local/lib/python3.10/dist-packages (from typer<1.0.0,>=0.3.0->spacy>=3.0.0->gliner_spacy) (8.1.7)\n",
            "Requirement already satisfied: shellingham>=1.3.0 in /usr/local/lib/python3.10/dist-packages (from typer<1.0.0,>=0.3.0->spacy>=3.0.0->gliner_spacy) (1.5.4)\n",
            "Requirement already satisfied: rich>=10.11.0 in /usr/local/lib/python3.10/dist-packages (from typer<1.0.0,>=0.3.0->spacy>=3.0.0->gliner_spacy) (13.9.2)\n",
            "Requirement already satisfied: cloudpathlib<1.0.0,>=0.7.0 in /usr/local/lib/python3.10/dist-packages (from weasel<0.5.0,>=0.1.0->spacy>=3.0.0->gliner_spacy) (0.19.0)\n",
            "Requirement already satisfied: smart-open<8.0.0,>=5.2.1 in /usr/local/lib/python3.10/dist-packages (from weasel<0.5.0,>=0.1.0->spacy>=3.0.0->gliner_spacy) (7.0.5)\n",
            "Requirement already satisfied: MarkupSafe>=2.0 in /usr/local/lib/python3.10/dist-packages (from jinja2->spacy>=3.0.0->gliner_spacy) (3.0.2)\n",
            "Requirement already satisfied: coloredlogs in /usr/local/lib/python3.10/dist-packages (from onnxruntime->gliner>=0.2.0->gliner_spacy) (15.0.1)\n",
            "Requirement already satisfied: flatbuffers in /usr/local/lib/python3.10/dist-packages (from onnxruntime->gliner>=0.2.0->gliner_spacy) (24.3.25)\n",
            "Requirement already satisfied: protobuf in /usr/local/lib/python3.10/dist-packages (from onnxruntime->gliner>=0.2.0->gliner_spacy) (3.20.3)\n",
            "Requirement already satisfied: marisa-trie>=0.7.7 in /usr/local/lib/python3.10/dist-packages (from language-data>=1.2->langcodes<4.0.0,>=3.2.0->spacy>=3.0.0->gliner_spacy) (1.2.1)\n",
            "Requirement already satisfied: markdown-it-py>=2.2.0 in /usr/local/lib/python3.10/dist-packages (from rich>=10.11.0->typer<1.0.0,>=0.3.0->spacy>=3.0.0->gliner_spacy) (3.0.0)\n",
            "Requirement already satisfied: pygments<3.0.0,>=2.13.0 in /usr/local/lib/python3.10/dist-packages (from rich>=10.11.0->typer<1.0.0,>=0.3.0->spacy>=3.0.0->gliner_spacy) (2.18.0)\n",
            "Requirement already satisfied: wrapt in /usr/local/lib/python3.10/dist-packages (from smart-open<8.0.0,>=5.2.1->weasel<0.5.0,>=0.1.0->spacy>=3.0.0->gliner_spacy) (1.16.0)\n",
            "Requirement already satisfied: humanfriendly>=9.1 in /usr/local/lib/python3.10/dist-packages (from coloredlogs->onnxruntime->gliner>=0.2.0->gliner_spacy) (10.0)\n",
            "Requirement already satisfied: mpmath<1.4,>=1.1.0 in /usr/local/lib/python3.10/dist-packages (from sympy->torch>=2.0.0->gliner>=0.2.0->gliner_spacy) (1.3.0)\n",
            "Requirement already satisfied: mdurl~=0.1 in /usr/local/lib/python3.10/dist-packages (from markdown-it-py>=2.2.0->rich>=10.11.0->typer<1.0.0,>=0.3.0->spacy>=3.0.0->gliner_spacy) (0.1.2)\n",
            "Collecting presidio_analyzer\n",
            "  Downloading presidio_analyzer-2.2.355-py3-none-any.whl.metadata (2.9 kB)\n",
            "Collecting phonenumbers<9.0.0,>=8.12 (from presidio_analyzer)\n",
            "  Downloading phonenumbers-8.13.48-py2.py3-none-any.whl.metadata (10 kB)\n",
            "Requirement already satisfied: pyyaml in /usr/local/lib/python3.10/dist-packages (from presidio_analyzer) (6.0.2)\n",
            "Requirement already satisfied: regex in /usr/local/lib/python3.10/dist-packages (from presidio_analyzer) (2024.9.11)\n",
            "Requirement already satisfied: spacy<4.0.0,>=3.4.4 in /usr/local/lib/python3.10/dist-packages (from presidio_analyzer) (3.7.5)\n",
            "Collecting tldextract (from presidio_analyzer)\n",
            "  Downloading tldextract-5.1.2-py3-none-any.whl.metadata (11 kB)\n",
            "Requirement already satisfied: spacy-legacy<3.1.0,>=3.0.11 in /usr/local/lib/python3.10/dist-packages (from spacy<4.0.0,>=3.4.4->presidio_analyzer) (3.0.12)\n",
            "Requirement already satisfied: spacy-loggers<2.0.0,>=1.0.0 in /usr/local/lib/python3.10/dist-packages (from spacy<4.0.0,>=3.4.4->presidio_analyzer) (1.0.5)\n",
            "Requirement already satisfied: murmurhash<1.1.0,>=0.28.0 in /usr/local/lib/python3.10/dist-packages (from spacy<4.0.0,>=3.4.4->presidio_analyzer) (1.0.10)\n",
            "Requirement already satisfied: cymem<2.1.0,>=2.0.2 in /usr/local/lib/python3.10/dist-packages (from spacy<4.0.0,>=3.4.4->presidio_analyzer) (2.0.8)\n",
            "Requirement already satisfied: preshed<3.1.0,>=3.0.2 in /usr/local/lib/python3.10/dist-packages (from spacy<4.0.0,>=3.4.4->presidio_analyzer) (3.0.9)\n",
            "Requirement already satisfied: thinc<8.3.0,>=8.2.2 in /usr/local/lib/python3.10/dist-packages (from spacy<4.0.0,>=3.4.4->presidio_analyzer) (8.2.5)\n",
            "Requirement already satisfied: wasabi<1.2.0,>=0.9.1 in /usr/local/lib/python3.10/dist-packages (from spacy<4.0.0,>=3.4.4->presidio_analyzer) (1.1.3)\n",
            "Requirement already satisfied: srsly<3.0.0,>=2.4.3 in /usr/local/lib/python3.10/dist-packages (from spacy<4.0.0,>=3.4.4->presidio_analyzer) (2.4.8)\n",
            "Requirement already satisfied: catalogue<2.1.0,>=2.0.6 in /usr/local/lib/python3.10/dist-packages (from spacy<4.0.0,>=3.4.4->presidio_analyzer) (2.0.10)\n",
            "Requirement already satisfied: weasel<0.5.0,>=0.1.0 in /usr/local/lib/python3.10/dist-packages (from spacy<4.0.0,>=3.4.4->presidio_analyzer) (0.4.1)\n",
            "Requirement already satisfied: typer<1.0.0,>=0.3.0 in /usr/local/lib/python3.10/dist-packages (from spacy<4.0.0,>=3.4.4->presidio_analyzer) (0.12.5)\n",
            "Requirement already satisfied: tqdm<5.0.0,>=4.38.0 in /usr/local/lib/python3.10/dist-packages (from spacy<4.0.0,>=3.4.4->presidio_analyzer) (4.66.5)\n",
            "Requirement already satisfied: requests<3.0.0,>=2.13.0 in /usr/local/lib/python3.10/dist-packages (from spacy<4.0.0,>=3.4.4->presidio_analyzer) (2.32.3)\n",
            "Requirement already satisfied: pydantic!=1.8,!=1.8.1,<3.0.0,>=1.7.4 in /usr/local/lib/python3.10/dist-packages (from spacy<4.0.0,>=3.4.4->presidio_analyzer) (2.9.2)\n",
            "Requirement already satisfied: jinja2 in /usr/local/lib/python3.10/dist-packages (from spacy<4.0.0,>=3.4.4->presidio_analyzer) (3.1.4)\n",
            "Requirement already satisfied: setuptools in /usr/local/lib/python3.10/dist-packages (from spacy<4.0.0,>=3.4.4->presidio_analyzer) (75.1.0)\n",
            "Requirement already satisfied: packaging>=20.0 in /usr/local/lib/python3.10/dist-packages (from spacy<4.0.0,>=3.4.4->presidio_analyzer) (24.1)\n",
            "Requirement already satisfied: langcodes<4.0.0,>=3.2.0 in /usr/local/lib/python3.10/dist-packages (from spacy<4.0.0,>=3.4.4->presidio_analyzer) (3.4.1)\n",
            "Requirement already satisfied: numpy>=1.19.0 in /usr/local/lib/python3.10/dist-packages (from spacy<4.0.0,>=3.4.4->presidio_analyzer) (1.26.4)\n",
            "Requirement already satisfied: idna in /usr/local/lib/python3.10/dist-packages (from tldextract->presidio_analyzer) (3.10)\n",
            "Collecting requests-file>=1.4 (from tldextract->presidio_analyzer)\n",
            "  Downloading requests_file-2.1.0-py2.py3-none-any.whl.metadata (1.7 kB)\n",
            "Requirement already satisfied: filelock>=3.0.8 in /usr/local/lib/python3.10/dist-packages (from tldextract->presidio_analyzer) (3.16.1)\n",
            "Requirement already satisfied: language-data>=1.2 in /usr/local/lib/python3.10/dist-packages (from langcodes<4.0.0,>=3.2.0->spacy<4.0.0,>=3.4.4->presidio_analyzer) (1.2.0)\n",
            "Requirement already satisfied: annotated-types>=0.6.0 in /usr/local/lib/python3.10/dist-packages (from pydantic!=1.8,!=1.8.1,<3.0.0,>=1.7.4->spacy<4.0.0,>=3.4.4->presidio_analyzer) (0.7.0)\n",
            "Requirement already satisfied: pydantic-core==2.23.4 in /usr/local/lib/python3.10/dist-packages (from pydantic!=1.8,!=1.8.1,<3.0.0,>=1.7.4->spacy<4.0.0,>=3.4.4->presidio_analyzer) (2.23.4)\n",
            "Requirement already satisfied: typing-extensions>=4.6.1 in /usr/local/lib/python3.10/dist-packages (from pydantic!=1.8,!=1.8.1,<3.0.0,>=1.7.4->spacy<4.0.0,>=3.4.4->presidio_analyzer) (4.12.2)\n",
            "Requirement already satisfied: charset-normalizer<4,>=2 in /usr/local/lib/python3.10/dist-packages (from requests<3.0.0,>=2.13.0->spacy<4.0.0,>=3.4.4->presidio_analyzer) (3.4.0)\n",
            "Requirement already satisfied: urllib3<3,>=1.21.1 in /usr/local/lib/python3.10/dist-packages (from requests<3.0.0,>=2.13.0->spacy<4.0.0,>=3.4.4->presidio_analyzer) (2.2.3)\n",
            "Requirement already satisfied: certifi>=2017.4.17 in /usr/local/lib/python3.10/dist-packages (from requests<3.0.0,>=2.13.0->spacy<4.0.0,>=3.4.4->presidio_analyzer) (2024.8.30)\n",
            "Requirement already satisfied: blis<0.8.0,>=0.7.8 in /usr/local/lib/python3.10/dist-packages (from thinc<8.3.0,>=8.2.2->spacy<4.0.0,>=3.4.4->presidio_analyzer) (0.7.11)\n",
            "Requirement already satisfied: confection<1.0.0,>=0.0.1 in /usr/local/lib/python3.10/dist-packages (from thinc<8.3.0,>=8.2.2->spacy<4.0.0,>=3.4.4->presidio_analyzer) (0.1.5)\n",
            "Requirement already satisfied: click>=8.0.0 in /usr/local/lib/python3.10/dist-packages (from typer<1.0.0,>=0.3.0->spacy<4.0.0,>=3.4.4->presidio_analyzer) (8.1.7)\n",
            "Requirement already satisfied: shellingham>=1.3.0 in /usr/local/lib/python3.10/dist-packages (from typer<1.0.0,>=0.3.0->spacy<4.0.0,>=3.4.4->presidio_analyzer) (1.5.4)\n",
            "Requirement already satisfied: rich>=10.11.0 in /usr/local/lib/python3.10/dist-packages (from typer<1.0.0,>=0.3.0->spacy<4.0.0,>=3.4.4->presidio_analyzer) (13.9.2)\n",
            "Requirement already satisfied: cloudpathlib<1.0.0,>=0.7.0 in /usr/local/lib/python3.10/dist-packages (from weasel<0.5.0,>=0.1.0->spacy<4.0.0,>=3.4.4->presidio_analyzer) (0.19.0)\n",
            "Requirement already satisfied: smart-open<8.0.0,>=5.2.1 in /usr/local/lib/python3.10/dist-packages (from weasel<0.5.0,>=0.1.0->spacy<4.0.0,>=3.4.4->presidio_analyzer) (7.0.5)\n",
            "Requirement already satisfied: MarkupSafe>=2.0 in /usr/local/lib/python3.10/dist-packages (from jinja2->spacy<4.0.0,>=3.4.4->presidio_analyzer) (3.0.2)\n",
            "Requirement already satisfied: marisa-trie>=0.7.7 in /usr/local/lib/python3.10/dist-packages (from language-data>=1.2->langcodes<4.0.0,>=3.2.0->spacy<4.0.0,>=3.4.4->presidio_analyzer) (1.2.1)\n",
            "Requirement already satisfied: markdown-it-py>=2.2.0 in /usr/local/lib/python3.10/dist-packages (from rich>=10.11.0->typer<1.0.0,>=0.3.0->spacy<4.0.0,>=3.4.4->presidio_analyzer) (3.0.0)\n",
            "Requirement already satisfied: pygments<3.0.0,>=2.13.0 in /usr/local/lib/python3.10/dist-packages (from rich>=10.11.0->typer<1.0.0,>=0.3.0->spacy<4.0.0,>=3.4.4->presidio_analyzer) (2.18.0)\n",
            "Requirement already satisfied: wrapt in /usr/local/lib/python3.10/dist-packages (from smart-open<8.0.0,>=5.2.1->weasel<0.5.0,>=0.1.0->spacy<4.0.0,>=3.4.4->presidio_analyzer) (1.16.0)\n",
            "Requirement already satisfied: mdurl~=0.1 in /usr/local/lib/python3.10/dist-packages (from markdown-it-py>=2.2.0->rich>=10.11.0->typer<1.0.0,>=0.3.0->spacy<4.0.0,>=3.4.4->presidio_analyzer) (0.1.2)\n",
            "Downloading presidio_analyzer-2.2.355-py3-none-any.whl (109 kB)\n",
            "\u001b[2K   \u001b[90m━━━━━━━━━━━━━━━━━━━━━━━━━━━━━━━━━━━━━━━━\u001b[0m \u001b[32m109.2/109.2 kB\u001b[0m \u001b[31m2.4 MB/s\u001b[0m eta \u001b[36m0:00:00\u001b[0m\n",
            "\u001b[?25hDownloading phonenumbers-8.13.48-py2.py3-none-any.whl (2.6 MB)\n",
            "\u001b[2K   \u001b[90m━━━━━━━━━━━━━━━━━━━━━━━━━━━━━━━━━━━━━━━━\u001b[0m \u001b[32m2.6/2.6 MB\u001b[0m \u001b[31m33.5 MB/s\u001b[0m eta \u001b[36m0:00:00\u001b[0m\n",
            "\u001b[?25hDownloading tldextract-5.1.2-py3-none-any.whl (97 kB)\n",
            "\u001b[2K   \u001b[90m━━━━━━━━━━━━━━━━━━━━━━━━━━━━━━━━━━━━━━━━\u001b[0m \u001b[32m97.6/97.6 kB\u001b[0m \u001b[31m6.8 MB/s\u001b[0m eta \u001b[36m0:00:00\u001b[0m\n",
            "\u001b[?25hDownloading requests_file-2.1.0-py2.py3-none-any.whl (4.2 kB)\n",
            "Installing collected packages: phonenumbers, requests-file, tldextract, presidio_analyzer\n",
            "Successfully installed phonenumbers-8.13.48 presidio_analyzer-2.2.355 requests-file-2.1.0 tldextract-5.1.2\n",
            "Collecting presidio_anonymizer\n",
            "  Downloading presidio_anonymizer-2.2.355-py3-none-any.whl.metadata (8.2 kB)\n",
            "Collecting azure-core (from presidio_anonymizer)\n",
            "  Downloading azure_core-1.31.0-py3-none-any.whl.metadata (39 kB)\n",
            "Collecting pycryptodome>=3.10.1 (from presidio_anonymizer)\n",
            "  Downloading pycryptodome-3.21.0-cp36-abi3-manylinux_2_17_x86_64.manylinux2014_x86_64.whl.metadata (3.4 kB)\n",
            "Requirement already satisfied: requests>=2.21.0 in /usr/local/lib/python3.10/dist-packages (from azure-core->presidio_anonymizer) (2.32.3)\n",
            "Requirement already satisfied: six>=1.11.0 in /usr/local/lib/python3.10/dist-packages (from azure-core->presidio_anonymizer) (1.16.0)\n",
            "Requirement already satisfied: typing-extensions>=4.6.0 in /usr/local/lib/python3.10/dist-packages (from azure-core->presidio_anonymizer) (4.12.2)\n",
            "Requirement already satisfied: charset-normalizer<4,>=2 in /usr/local/lib/python3.10/dist-packages (from requests>=2.21.0->azure-core->presidio_anonymizer) (3.4.0)\n",
            "Requirement already satisfied: idna<4,>=2.5 in /usr/local/lib/python3.10/dist-packages (from requests>=2.21.0->azure-core->presidio_anonymizer) (3.10)\n",
            "Requirement already satisfied: urllib3<3,>=1.21.1 in /usr/local/lib/python3.10/dist-packages (from requests>=2.21.0->azure-core->presidio_anonymizer) (2.2.3)\n",
            "Requirement already satisfied: certifi>=2017.4.17 in /usr/local/lib/python3.10/dist-packages (from requests>=2.21.0->azure-core->presidio_anonymizer) (2024.8.30)\n",
            "Downloading presidio_anonymizer-2.2.355-py3-none-any.whl (31 kB)\n",
            "Downloading pycryptodome-3.21.0-cp36-abi3-manylinux_2_17_x86_64.manylinux2014_x86_64.whl (2.3 MB)\n",
            "\u001b[2K   \u001b[90m━━━━━━━━━━━━━━━━━━━━━━━━━━━━━━━━━━━━━━━━\u001b[0m \u001b[32m2.3/2.3 MB\u001b[0m \u001b[31m17.4 MB/s\u001b[0m eta \u001b[36m0:00:00\u001b[0m\n",
            "\u001b[?25hDownloading azure_core-1.31.0-py3-none-any.whl (197 kB)\n",
            "\u001b[2K   \u001b[90m━━━━━━━━━━━━━━━━━━━━━━━━━━━━━━━━━━━━━━━━\u001b[0m \u001b[32m197.4/197.4 kB\u001b[0m \u001b[31m10.9 MB/s\u001b[0m eta \u001b[36m0:00:00\u001b[0m\n",
            "\u001b[?25hInstalling collected packages: pycryptodome, azure-core, presidio_anonymizer\n",
            "Successfully installed azure-core-1.31.0 presidio_anonymizer-2.2.355 pycryptodome-3.21.0\n"
          ]
        }
      ]
    },
    {
      "cell_type": "code",
      "source": [
        "import re\n",
        "\n",
        "def count_words_and_redactions(paragraph):\n",
        "    # Count total words in the paragraph\n",
        "    total_words = len(paragraph.split())\n",
        "\n",
        "    # Count occurrences of redacted terms\n",
        "    redacted_name_count = len(re.findall(r\"\\[REDACTED NAME\\]\", paragraph))\n",
        "    redacted_age_count = len(re.findall(r\"\\[REDACTED AGE\\]\", paragraph))\n",
        "    redacted_phone_count = len(re.findall(r\"\\[REDACTED PHONE NUMBER\\]\", paragraph))\n",
        "    redacted_place_count = len(re.findall(r\"\\[REDACTED PLACE\\]\", paragraph))\n",
        "\n",
        "    # Return the counts\n",
        "    return {\n",
        "        \"total_words\": total_words,\n",
        "        \"redacted_name_count\": redacted_name_count,\n",
        "        \"redacted_age_count\": redacted_age_count,\n",
        "        \"redacted_phone_count\": redacted_phone_count,\n",
        "        \"redacted_place_count\": redacted_place_count,\n",
        "    }\n",
        "\n",
        "# Example usage\n",
        "paragraph = \"\"\"OB: 11/29/1939 e, [REDACTED NAME] MANA MA HMO 61102 Jealthcare System - SF A. Cheema, MD 10/19/2023 10/30/23, 5:21 PM Print Preview 1/34 Current Medications Taking Melatonin 5 MG Tablet 1 tablet in the evening Orally Once a day Omega 3 350 MG Capsule 1 capsule Orally Once a day Vitamin B12 3000 MCG Tablet Sublingual as directed Sublingual amLODIPine Besylate 5 MG Tablet 1 tablet Orally Once a day Furosemide 20 MG Tablet 1 tablet Orally Once a day Levothyroxine Sodium 75 MCG Tablet 1 tablet in the morning on an empty stomach Orally Once a day Omeprazole 20 MG Capsule Delayed Release 1 capsule 30 minutes before morning meal Orally Once a day Simvastatin 20 MG Tablet 1 tablet in the evening Orally Once a day Medication List reviewed and reconciled [REDACTED NAME] Past Medical History Hypertension . Thyroid disorder. Hypercholesterolemia. Surgical History Cholecystectomy Elbow Right eye busted open. (7 stitches placed) Stroke Family History [REDACTED NAME]: deceased [REDACTED NAME] . 2 daughter(s) . brother passed. Social History Tobacco Use: Tobacco Use/Smoking Are you a nonsmoker Drugs/Alcohol: Alcohol Screen (Audit-C) Did you have a drink containing alcohol in the past year? Yes How often did you have a drink containing alcohol in the past year? Monthly or less (1 Reason for Appointment 1. 6 months follow up on labs History of Present Illness Constitutional: [REDACTED AGE] M presents with overall medical care with no current labs to review. Medications will be discussed and reviewed. [REDACTED NAME] has been doing fairly well with no significant complaints of chest pains. shortness of breath, palpitations or dizziness. Vital Signs Temp: 97.8 F, HR: 54 /min, BP: 125/77 mm Hg, Ht: 72 in, Wt: 200.0 lbs, BMI: 27.12 Index, RR: 16 /min, Oxygen sat %: 97 % tm. Examination Examination: GENERAL APPEARANCE: well developed, well nourished, in no distress. HENT: Normocephalic, atraumatic. EYES: extraocular movement intact (EOMI), sclera anicteric. EARS: normal, tympanic membrane intact, clear. ORAL CAVITY: no oral lesions, gums normal. THROAT: clear, no tonsillar enlargement. NECK/THYROID: neck supple, no jugular venous distention, no adenopathy, thyroid normal. SKIN: no rashes, no indurations. CARDIOVASCULAR: no murmurs, no gallop, PMI nondisplaced, PMI nondisplaced, S1, S2 normal. RESPIRATORY clear to auscultation, normal respiratory effort. ABDOMEN: soft, nontender, nondistended, BS benign. EXTREMITIES: no clubbing, upper extremity muscle mass and range of motion good. NEURO no focal motor or sensory deficits, alert and orientated, no rigidity, no tremor. PSYCH: alert and orientated X 3, normal affect. Assessments 1. Acquired hypothyroidism - E03.9 2. GERD (gastroesophageal reflux disease) - K21.9 (Primary) 3. Essential hypertension - I10 4. BMI 27.0-27.9,adult - Z68.27 Treatment [REDACTED NAME] DOB: 11/29/1939 ([REDACTED AGE]) Acc No. 152830 DOS: 10/19/2023 [REDACTED NAME] 83 Y old Male, D B: / 39 Account Number: 152830 922 NELSON DR, THE VILLAGES, FL-32159-5545 Home: [REDACTED PHONE NUMBER] Guarantor: Abruzes , as rance: ANA A O Payer ID: 2 Appointment Facility: Lakeview H l care 10/19/2023 Progress Notes: [REDACTED NAME] Progress Note: Shahbaz . ee a, D 2 Note generated by eClinicalWorks EMR/PM Software (www.eClinicalWorks.com) 9925 8442 A. [REDACTED PLACE] 10/19/2023 10/30/23, 5:21 PM Print Preview 2/34 point) How many drinks did you have on a typical day when you were drinking in the past year? 1 or 2 drinks (0 point) How often did you have 6 or more drinks on one occasion in the past year? Never (0 point) Points 1 Interpretation Negative Caffeine Intake: 1-2 cups per day Household: Household Resident Type: Permanant Resident Housing: owns home Marital status: married Allergies N.K.D.A. Hospitalization/Major Diagnostic Procedure Reaction to medications 02/2022 Review of Systems All Other Systems: Review of Systems (ROS) All others negative except those mentioned in HPI. General/Constitutional: [REDACTED NAME] denies chills, sweats. Ophthalmologic: [REDACTED NAME] denies double vision, discharge. ENT: [REDACTED NAME] denies difficulty swallowing, hoarseness. Respiratory: [REDACTED NAME] denies hemoptysis, pain with inspiration. Cardiovascular: [REDACTED NAME] denies chest pain with exertion, rapid heartbeat. Gastrointestinal: [REDACTED NAME] denies abdominal pain, nausea, vomiting. Hematology: [REDACTED NAME] denies bleeding problems, easy bruising. Musculoskeletal: [REDACTED NAME] denies swollen joints, muscle aches. Skin: [REDACTED NAME] denies rash, hives. 1. GERD (gastroesophageal reflux disease) Continue Omeprazole Capsule Delayed Release, 20 MG, 1 capsule 30 minutes before morning meal, Orally, Once a day 2. Acquired hypothyroidism Continue Levothyroxine Sodium Tablet, 75 MCG, 1 tablet in the morning on an empty stomach, Orally, Once a day 3. Essential hypertension Continue amLODIPine Besylate Tablet, 5 MG, 1 tablet, Orally, Once a day Notes: [REDACTED NAME] counselled to follow a low salt DASH diet and daily exercise. Procedure Codes 1159F MED LIST DOCD IN RCRD 1160F RVW MEDS BY RX/DR IN RCRD 3074F SYST BP < 130 MM HG 3078F DIAST BP < 80 MM HG G8420 BMI >=22 AND <30 DOC W/O FOLLOWUP Care Plan Details Electronically signed by [REDACTED NAME] on 10/20/2023 at 03:26 PM EDT Sign off status: Completed Lakeview Healthcare System - SF 10250 SE 167 PLACE ROAD UNIT 5 SUMMERFIELD, FL 34491-8682 Tel: [REDACTED PHONE NUMBER] 5 Fax: 352-307-8 2 [REDACTED NAME] DOB: 11/29/1939 ([REDACTED AGE]) Acc No. 152830 DOS: 10/19/2023 Progress Note: Shahbaz . ee a, D 2 Note generated by eClinicalWorks EMR/PM Software (www.eClinicalWorks.com) OB: 11/29/1939 e, Thomas J Insurance: HUMANA MA HMO 61102 Jealthcare System - SF A. Cheema, MD 10/19/2023 10/30/23, 5:21 PM Print Preview 1/34 Current Medications Taking Melatonin 5 MG Tablet 1 tablet in the evening Orally Once a day Omega 3 350 MG Capsule 1 capsule Orally Once a day Vitamin B12 3000 MCG Tablet Sublingual as directed Sublingual amLODIPine Besylate 5 MG Tablet 1 tablet Orally Once a day Furosemide 20 MG Tablet 1 tablet Orally Once a day Levothyroxine Sodium 75 MCG Tablet 1 tablet in the morning on an empty stomach Orally Once a day Omeprazole 20 MG Capsule Delayed Release 1 capsule 30 minutes before morning meal Orally Once a day Simvastatin 20 MG Tablet 1 tablet in the evening Orally Once a day Medication List reviewed and reconciled with the [REDACTED NAME] Past Medical History Hypertension . Thyroid disorder. Hypercholesterolemia. Surgical History Cholecystectomy Elbow Right eye busted open. (7 stitches placed) Stroke Family History [REDACTED NAME]: [REDACTED NAME] . 2 daughter(s) . [REDACTED NAME]. Social History Tobacco Use: Tobacco Use/Smoking Are you a nonsmoker Drugs/Alcohol: Alcohol Screen (Audit-C) Did you have a drink containing alcohol in the past year? Yes How often did you have a drink containing alcohol in the past year? Monthly or less (1 Reason for Appointment 1. 6 months follow up on labs History of Present Illness Constitutional: [REDACTED AGE] presents with overall medical care with no current labs to review. Medications will be discussed and reviewed. [REDACTED NAME] has been doing fairly well with no significant complaints of chest pains. shortness of breath, palpitations or dizziness. Vital Signs Temp: 97.8 F, HR: 54 /min, BP: 125/77 mm Hg, Ht: 72 in, Wt: 200.0 lbs, BMI: 27.12 Index, RR: 16 /min, Oxygen sat %: 97 % tm. Examination Examination: GENERAL APPEARANCE: well developed, well nourished, in no distress. HENT: Normocephalic, atraumatic. EYES: extraocular movement intact (EOMI), sclera anicteric. EARS: normal, tympanic membrane intact, clear. ORAL CAVITY: no oral lesions, gums normal. THROAT: clear, no tonsillar enlargement. NECK/THYROID: neck supple, no jugular venous distention, no adenopathy, thyroid normal. SKIN: no rashes, no indurations. CARDIOVASCULAR: no murmurs, no gallop, PMI nondisplaced, PMI nondisplaced, S1, S2 normal. RESPIRATORY clear to auscultation, normal respiratory effort. ABDOMEN: soft, nontender, nondistended, BS benign. EXTREMITIES: no clubbing, upper extremity muscle mass and range of motion good. NEURO no focal motor or sensory deficits, alert and orientated, no rigidity, no tremor. PSYCH: alert and orientated X 3, normal affect. Assessments 1. Acquired hypothyroidism - E03.9 2. GERD (gastroesophageal reflux disease) - K21.9 (Primary) 3. Essential hypertension - I10 4. BMI 27.0-27.9,adult - Z68.27 Treatment [REDACTED NAME] DOB: 11/29/1939 (83 yo M) Acc No. 152830 DOS: 10/19/2023 [REDACTED NAME] 83 Y old Male, D B: / 39 Account Number: 152830 922 NELSON DR, THE VILLAGES, FL-32159-5545 Home: [REDACTED PHONE NUMBER] Guarantor: Abruzes , as rance: ANA A O Payer ID: 2 Appointment Facility: Lakeview H l care 10/19/2023 Progress Notes: [REDACTED NAME] Progress Note: Shahbaz . ee a, D 2 Note generated by eClinicalWorks EMR/PM Software (www.eClinicalWorks.com) 9925 8442 A. Cheema, MD 10/19/2023 10/30/23, 5:21 PM Print Preview 2/34 point) How many drinks did [REDACTED NAME] have on a typical day when [REDACTED NAME] were drinking in the past year? 1 or 2 drinks (0 point) How often did [REDACTED NAME] have 6 or more drinks on one occasion in the past year? Never (0 point) Points 1 Interpretation Negative Caffeine Intake: 1-2 cups per day Household: Household Resident Type: Permanant Resident Housing: owns home Marital status: married Allergies N.K.D.A. Hospitalization/Major Diagnostic Procedure Reaction to medications 02/2022 Review of Systems All Other Systems: Review of Systems (ROS) All others negative except those mentioned in HPI. General/Constitutional: [REDACTED NAME] denies chills, sweats. Ophthalmologic: [REDACTED NAME] denies double vision, discharge. ENT: [REDACTED NAME] denies difficulty swallowing, hoarseness. Respiratory: [REDACTED NAME] denies hemoptysis, pain with inspiration. Cardiovascular: [REDACTED NAME] denies chest pain with exertion, rapid heartbeat. Gastrointestinal: [REDACTED NAME] denies abdominal pain, nausea, vomiting. Hematology: [REDACTED NAME] denies bleeding problems, easy bruising. Musculoskeletal: [REDACTED NAME] denies swollen joints, muscle aches. Skin: [REDACTED NAME] denies rash, hives. 1. GERD (gastroesophageal reflux disease) Continue Omeprazole Capsule Delayed Release, 20 MG, 1 capsule 30 minutes before morning meal, Orally, Once a day 2. Acquired hypothyroidism Continue Levothyroxine Sodium Tablet, 75 MCG, 1 tablet in the morning on an empty stomach, Orally, Once a day 3. Essential hypertension Continue amLODIPine Besylate Tablet, 5 MG, 1 tablet, Orally, Once a day Notes: pt counselled to follow a low salt DASH diet and daily exercise. Procedure Codes 1159F MED LIST DOCD IN RCRD 1160F RVW MEDS BY RX/DR IN RCRD 3074F SYST BP < 130 MM HG 3078F DIAST BP < 80 MM HG G8420 BMI >=22 AND <30 DOC W/O FOLLOWUP Care Plan Details Electronically signed by [REDACTED NAME] on 10/20/2023 at 03:26 PM EDT Sign off status: Completed Lakeview Healthcare System - SF 10250 SE 167 PLACE ROAD UNIT 5 SUMMERFIELD, FL 34491-8682 Tel: [REDACTED PHONE NUMBER] Fax: 352-307-8 2 [REDACTED NAME] DOB: 11/29/1939 ([REDACTED AGE]) Acc No. 152830 DOS: 10/19/2023 Progress Note: [REDACTED NAME], D 2 Note generated by eClinicalWorks EMR/PM Software (www.eClinicalWorks.com) \"\"\"\n",
        "result = count_words_and_redactions(paragraph)\n",
        "print(result)"
      ],
      "metadata": {
        "colab": {
          "base_uri": "https://localhost:8080/"
        },
        "id": "7NqgfzoRFYYy",
        "outputId": "0a0184c7-f671-41aa-f864-cf2187368541"
      },
      "execution_count": null,
      "outputs": [
        {
          "output_type": "stream",
          "name": "stdout",
          "text": [
            "{'total_words': 1716, 'redacted_name_count': 43, 'redacted_age_count': 5, 'redacted_phone_count': 4, 'redacted_place_count': 1}\n"
          ]
        }
      ]
    },
    {
      "cell_type": "markdown",
      "source": [
        "OB: 11/29/1939 e, Thomas J Insurance: HUMANA MA HMO 61102 Jealthcare System - SF A. Cheema, MD 10/19/2023 10/30/23, 5:21 PM Print Preview 1/34 Current Medications Taking Melatonin 5 MG Tablet 1 tablet in the evening Orally Once a day Omega 3 350 MG Capsule 1 capsule Orally Once a day Vitamin B12 3000 MCG Tablet Sublingual as directed Sublingual amLODIPine Besylate 5 MG Tablet 1 tablet Orally Once a day Furosemide 20 MG Tablet 1 tablet Orally Once a day Levothyroxine Sodium 75 MCG Tablet 1 tablet in the morning on an empty stomach Orally Once a day Omeprazole 20 MG Capsule Delayed Release 1 capsule 30 minutes before morning meal Orally Once a day Simvastatin 20 MG Tablet 1 tablet in the evening Orally Once a day Medication List reviewed and reconciled with the patient Past Medical History Hypertension . Thyroid disorder. Hypercholesterolemia. Surgical History Cholecystectomy Elbow Right eye busted open. (7 stitches placed) Stroke Family History Father: deceased Mother: deceased 1 brother(s) . 2 daughter(s) . brother passed. Social History Tobacco Use: Tobacco Use/Smoking Are you a nonsmoker Drugs/Alcohol: Alcohol Screen (Audit-C) Did you have a drink containing alcohol in the past year? Yes How often did you have a drink containing alcohol in the past year? Monthly or less (1 Reason for Appointment 1. 6 months follow up on labs History of Present Illness Constitutional: 83 y/o M presents with overall medical care with no current labs to review. Medications will be discussed and reviewed. Patient has been doing fairly well with no significant complaints of chest pains. shortness of breath, palpitations or dizziness. Vital Signs Temp: 97.8 F, HR: 54 /min, BP: 125/77 mm Hg, Ht: 72 in, Wt: 200.0 lbs, BMI: 27.12 Index, RR: 16 /min, Oxygen sat %: 97 % tm. Examination Examination: GENERAL APPEARANCE: well developed, well nourished, in no distress. HENT: Normocephalic, atraumatic. EYES: extraocular movement intact (EOMI), sclera anicteric. EARS: normal, tympanic membrane intact, clear. ORAL CAVITY: no oral lesions, gums normal. THROAT: clear, no tonsillar enlargement. NECK/THYROID: neck supple, no jugular venous distention, no adenopathy, thyroid normal. SKIN: no rashes, no indurations. CARDIOVASCULAR: no murmurs, no gallop, PMI nondisplaced, PMI nondisplaced, S1, S2 normal. RESPIRATORY clear to auscultation, normal respiratory effort. ABDOMEN: soft, nontender, nondistended, BS benign. EXTREMITIES: no clubbing, upper extremity muscle mass and range of motion good. NEURO no focal motor or sensory deficits, alert and orientated, no rigidity, no tremor. PSYCH: alert and orientated X 3, normal affect. Assessments 1. Acquired hypothyroidism - E03.9 2. GERD (gastroesophageal reflux disease) - K21.9 (Primary) 3. Essential hypertension - I10 4. BMI 27.0-27.9,adult - Z68.27 Treatment ABRUZESE, Thomas J DOB: 11/29/1939 (83 yo M) Acc No. 152830 DOS: 10/19/2023 Abruzese, Thomas J 83 Y old Male, D B: / 39 Account Number: 152830 922 NELSON DR, THE VILLAGES, FL-32159-5545 Home: 813-973-7820 Guarantor: Abruzes , as rance: ANA A O Payer ID: 2 Appointment Facility: Lakeview H l care 10/19/2023 Progress Notes: Shahbaz A. Cheema, MD Progress Note: Shahbaz . ee a, D 2 Note generated by eClinicalWorks EMR/PM Software (www.eClinicalWorks.com) 9925 8442 A. Cheema, MD 10/19/2023 10/30/23, 5:21 PM Print Preview 2/34 point) How many drinks did you have on a typical day when you were drinking in the past year? 1 or 2 drinks (0 point) How often did you have 6 or more drinks on one occasion in the past year? Never (0 point) Points 1 Interpretation Negative Caffeine Intake: 1-2 cups per day Household: Household Resident Type: Permanant Resident Housing: owns home Marital status: married Allergies N.K.D.A. Hospitalization/Major Diagnostic Procedure Reaction to medications 02/2022 Review of Systems All Other Systems: Review of Systems (ROS) All others negative except those mentioned in HPI. General/Constitutional: Patient denies chills, sweats. Ophthalmologic: Patient denies double vision, discharge. ENT: Patient denies difficulty swallowing, hoarseness. Respiratory: Patient denies hemoptysis, pain with inspiration. Cardiovascular: Patient denies chest pain with exertion, rapid heartbeat. Gastrointestinal: Patient denies abdominal pain, nausea, vomiting. Hematology: Patient denies bleeding problems, easy bruising. Musculoskeletal: Patient denies swollen joints, muscle aches. Skin: Patient denies rash, hives. 1. GERD (gastroesophageal reflux disease) Continue Omeprazole Capsule Delayed Release, 20 MG, 1 capsule 30 minutes before morning meal, Orally, Once a day 2. Acquired hypothyroidism Continue Levothyroxine Sodium Tablet, 75 MCG, 1 tablet in the morning on an empty stomach, Orally, Once a day 3. Essential hypertension Continue amLODIPine Besylate Tablet, 5 MG, 1 tablet, Orally, Once a day Notes: pt counselled to follow a low salt DASH diet and daily exercise. Procedure Codes 1159F MED LIST DOCD IN RCRD 1160F RVW MEDS BY RX/DR IN RCRD 3074F SYST BP < 130 MM HG 3078F DIAST BP < 80 MM HG G8420 BMI >=22 AND <30 DOC W/O FOLLOWUP Care Plan Details Electronically signed by Shahbaz Cheema on 10/20/2023 at 03:26 PM EDT Sign off status: Completed Lakeview Healthcare System - SF 10250 SE 167 PLACE ROAD UNIT 5 SUMMERFIELD, FL 34491-8682 Tel: 352-307-9 5 Fax: 352-307-8 2 ABRUZESE, Thomas J DOB: 11/29/1939 (83 yo M) Acc No. 152830 DOS: 10/19/2023 Progress Note: Shahbaz . ee a, D 2 Note generated by eClinicalWorks EMR/PM Software (www.eClinicalWorks.com) OB: 11/29/1939 e, Thomas J Insurance: HUMANA MA HMO 61102 Jealthcare System - SF A. Cheema, MD 10/19/2023 10/30/23, 5:21 PM Print Preview 1/34 Current Medications Taking Melatonin 5 MG Tablet 1 tablet in the evening Orally Once a day Omega 3 350 MG Capsule 1 capsule Orally Once a day Vitamin B12 3000 MCG Tablet Sublingual as directed Sublingual amLODIPine Besylate 5 MG Tablet 1 tablet Orally Once a day Furosemide 20 MG Tablet 1 tablet Orally Once a day Levothyroxine Sodium 75 MCG Tablet 1 tablet in the morning on an empty stomach Orally Once a day Omeprazole 20 MG Capsule Delayed Release 1 capsule 30 minutes before morning meal Orally Once a day Simvastatin 20 MG Tablet 1 tablet in the evening Orally Once a day Medication List reviewed and reconciled with the patient Past Medical History Hypertension . Thyroid disorder. Hypercholesterolemia. Surgical History Cholecystectomy Elbow Right eye busted open. (7 stitches placed) Stroke Family History Father: deceased Mother: deceased 1 brother(s) . 2 daughter(s) . brother passed. Social History Tobacco Use: Tobacco Use/Smoking Are you a nonsmoker Drugs/Alcohol: Alcohol Screen (Audit-C) Did you have a drink containing alcohol in the past year? Yes How often did you have a drink containing alcohol in the past year? Monthly or less (1 Reason for Appointment 1. 6 months follow up on labs History of Present Illness Constitutional: 83 y/o M presents with overall medical care with no current labs to review. Medications will be discussed and reviewed. Patient has been doing fairly well with no significant complaints of chest pains. shortness of breath, palpitations or dizziness. Vital Signs Temp: 97.8 F, HR: 54 /min, BP: 125/77 mm Hg, Ht: 72 in, Wt: 200.0 lbs, BMI: 27.12 Index, RR: 16 /min, Oxygen sat %: 97 % tm. Examination Examination: GENERAL APPEARANCE: well developed, well nourished, in no distress. HENT: Normocephalic, atraumatic. EYES: extraocular movement intact (EOMI), sclera anicteric. EARS: normal, tympanic membrane intact, clear. ORAL CAVITY: no oral lesions, gums normal. THROAT: clear, no tonsillar enlargement. NECK/THYROID: neck supple, no jugular venous distention, no adenopathy, thyroid normal. SKIN: no rashes, no indurations. CARDIOVASCULAR: no murmurs, no gallop, PMI nondisplaced, PMI nondisplaced, S1, S2 normal. RESPIRATORY clear to auscultation, normal respiratory effort. ABDOMEN: soft, nontender, nondistended, BS benign. EXTREMITIES: no clubbing, upper extremity muscle mass and range of motion good. NEURO no focal motor or sensory deficits, alert and orientated, no rigidity, no tremor. PSYCH: alert and orientated X 3, normal affect. Assessments 1. Acquired hypothyroidism - E03.9 2. GERD (gastroesophageal reflux disease) - K21.9 (Primary) 3. Essential hypertension - I10 4. BMI 27.0-27.9,adult - Z68.27 Treatment ABRUZESE, Thomas J DOB: 11/29/1939 (83 yo M) Acc No. 152830 DOS: 10/19/2023 Abruzese, Thomas J 83 Y old Male, D B: / 39 Account Number: 152830 922 NELSON DR, THE VILLAGES, FL-32159-5545 Home: 813-973-7820 Guarantor: Abruzes , as rance: ANA A O Payer ID: 2 Appointment Facility: Lakeview H l care 10/19/2023 Progress Notes: Shahbaz A. Cheema, MD Progress Note: Shahbaz . ee a, D 2 Note generated by eClinicalWorks EMR/PM Software (www.eClinicalWorks.com) 9925 8442 A. Cheema, MD 10/19/2023 10/30/23, 5:21 PM Print Preview 2/34 point) How many drinks did you have on a typical day when you were drinking in the past year? 1 or 2 drinks (0 point) How often did you have 6 or more drinks on one occasion in the past year? Never (0 point) Points 1 Interpretation Negative Caffeine Intake: 1-2 cups per day Household: Household Resident Type: Permanant Resident Housing: owns home Marital status: married Allergies N.K.D.A. Hospitalization/Major Diagnostic Procedure Reaction to medications 02/2022 Review of Systems All Other Systems: Review of Systems (ROS) All others negative except those mentioned in HPI. General/Constitutional: Patient denies chills, sweats. Ophthalmologic: Patient denies double vision, discharge. ENT: Patient denies difficulty swallowing, hoarseness. Respiratory: Patient denies hemoptysis, pain with inspiration. Cardiovascular: Patient denies chest pain with exertion, rapid heartbeat. Gastrointestinal: Patient denies abdominal pain, nausea, vomiting. Hematology: Patient denies bleeding problems, easy bruising. Musculoskeletal: Patient denies swollen joints, muscle aches. Skin: Patient denies rash, hives. 1. GERD (gastroesophageal reflux disease) Continue Omeprazole Capsule Delayed Release, 20 MG, 1 capsule 30 minutes before morning meal, Orally, Once a day 2. Acquired hypothyroidism Continue Levothyroxine Sodium Tablet, 75 MCG, 1 tablet in the morning on an empty stomach, Orally, Once a day 3. Essential hypertension Continue amLODIPine Besylate Tablet, 5 MG, 1 tablet, Orally, Once a day Notes: pt counselled to follow a low salt DASH diet and daily exercise. Procedure Codes 1159F MED LIST DOCD IN RCRD 1160F RVW MEDS BY RX/DR IN RCRD 3074F SYST BP < 130 MM HG 3078F DIAST BP < 80 MM HG G8420 BMI >=22 AND <30 DOC W/O FOLLOWUP Care Plan Details Electronically signed by Shahbaz Cheema on 10/20/2023 at 03:26 PM EDT Sign off status: Completed Lakeview Healthcare System - SF 10250 SE 167 PLACE ROAD UNIT 5 SUMMERFIELD, FL 34491-8682 Tel: 352-307-9 5 Fax: 352-307-8 2 ABRUZESE, Thomas J DOB: 11/29/1939 (83 yo M) Acc No. 152830 DOS: 10/19/2023 Progress Note: Shahbaz . ee a, D 2 Note generated by eClinicalWorks EMR/PM Software (www.eClinicalWorks.com)"
      ],
      "metadata": {
        "id": "RLE8U65SN0_U"
      }
    },
    {
      "cell_type": "code",
      "source": [],
      "metadata": {
        "id": "JZxpDBVWN66l"
      },
      "execution_count": null,
      "outputs": []
    }
  ]
}